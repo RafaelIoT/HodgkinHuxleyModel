{
 "cells": [
  {
   "cell_type": "code",
   "execution_count": 1,
   "metadata": {},
   "outputs": [],
   "source": [
    "import math"
   ]
  },
  {
   "cell_type": "code",
   "execution_count": 2,
   "metadata": {},
   "outputs": [],
   "source": [
    "Vr = -60\n",
    "Vm0 = -60\n",
    "Na_in_concentration = 49.5 # mM\n",
    "Na_ex_concentration = 437.0 # mM\n",
    "K_in_concentration = 397 # mM\n",
    "K_ex_concentration = 29 # mM\n",
    "\n",
    "EK = -72.100 # mV \n",
    "ENa = 52.4 \n",
    "EL = -49.187\n",
    "\n",
    "Cm = 1.0 # micro Farad / cm^2\n",
    "\n",
    "T = 6.3 # Kelvin\n",
    "\n",
    "n0 = 0.31768\n",
    "m0 = 0.05293\n",
    "h0 = 0.59612\n",
    "\n",
    "gK_max = 36.0 # mS / cm^2\n",
    "gNa_max = 120.0\n",
    "gL = 0.3\n",
    "gK = 0.367\n",
    "gNa = 0.011\n",
    "\n",
    "R = 8.3145 # constante dos gases perfeitos J * K^⁻1 * mol^-1\n",
    "F = 96485 # 96485.332 constante de faraday C / mol\n",
    "e = 2.718281"
   ]
  },
  {
   "cell_type": "code",
   "execution_count": 3,
   "metadata": {},
   "outputs": [],
   "source": [
    "time = 15 # 10 msec \n",
    "delta_t = 0.01 # msec\n",
    "total_time_deltas = int(time / delta_t)\n",
    "\n",
    "Is_begin = 2\n",
    "Is = 53\n",
    "Is_duration = 0.2\n",
    "\n",
    "Ims = [0] * total_time_deltas\n",
    "\n",
    "Is_start_index = int(Is_begin / delta_t)\n",
    "Is_finish_index = int((Is_begin + Is_duration) / delta_t)\n",
    "\n",
    "Ims = [0 if x < Is_start_index or x > Is_finish_index else Is for x in range(0, total_time_deltas)]\n"
   ]
  },
  {
   "cell_type": "code",
   "execution_count": null,
   "metadata": {},
   "outputs": [],
   "source": []
  },
  {
   "cell_type": "code",
   "execution_count": 4,
   "metadata": {},
   "outputs": [
    {
     "data": {
      "image/png": "[encoded data removed]",
      "text/plain": [
       "<Figure size 432x288 with 1 Axes>"
      ]
     },
     "metadata": {
      "needs_background": "light"
     },
     "output_type": "display_data"
    }
   ],
   "source": [
    "%matplotlib inline\n",
    "\n",
    "import matplotlib\n",
    "import numpy as np\n",
    "import matplotlib.pyplot as plt\n",
    "\n",
    "plt.plot(Ims)\n",
    "plt.show()"
   ]
  },
  {
   "cell_type": "code",
   "execution_count": 5,
   "metadata": {},
   "outputs": [],
   "source": [
    "def NernstPotential(q_in_conc, q_ex_conc, z, temp, temp_unit):\n",
    "    if temp_unit != \"K\":\n",
    "        if temp_unit == \"C\":\n",
    "            temp = CelsiusToKelvin(temp)\n",
    "            \n",
    "        elif temp_unit == \"F\":\n",
    "            temp = FahrenheitfToKelvin(temp)\n",
    "        else:\n",
    "            print(\"Wrong temperature unit: K, C or F\")\n",
    "          \n",
    "    print(temp)\n",
    "    a = q_in_conc / q_ex_conc\n",
    "    return -1000*R*temp/(1*F)* math.log(a)\n",
    "    \n",
    "    \n",
    "def CelsiusToKelvin(temp):\n",
    "    return temp + 273.15\n",
    "\n",
    "def FahrenheitfToKelvin(temp):\n",
    "    return 273.5 + ((temp - 32.0) * (5.0/9.0))"
   ]
  },
  {
   "cell_type": "code",
   "execution_count": 22,
   "metadata": {},
   "outputs": [
    {
     "name": "stdout",
     "output_type": "stream",
     "text": [
      "279.45\n"
     ]
    },
    {
     "data": {
      "text/plain": [
       "52.44818388360987"
      ]
     },
     "execution_count": 22,
     "metadata": {},
     "output_type": "execute_result"
    }
   ],
   "source": [
    "ENa = NernstPotential(Na_in_concentration, Na_ex_concentration, 1, T, \"C\")\n",
    "ENa"
   ]
  },
  {
   "cell_type": "code",
   "execution_count": 26,
   "metadata": {},
   "outputs": [
    {
     "name": "stdout",
     "output_type": "stream",
     "text": [
      "279.45\n"
     ]
    },
    {
     "data": {
      "text/plain": [
       "-63.01217947135065"
      ]
     },
     "execution_count": 26,
     "metadata": {},
     "output_type": "execute_result"
    }
   ],
   "source": [
    "a = NernstPotential(K_in_concentration, K_ex_concentration, 1, T, \"C\");\n",
    "a"
   ]
  },
  {
   "cell_type": "code",
   "execution_count": 21,
   "metadata": {},
   "outputs": [
    {
     "name": "stdout",
     "output_type": "stream",
     "text": [
      "300.0\n"
     ]
    },
    {
     "data": {
      "text/plain": [
       "-61.9908801752046"
      ]
     },
     "execution_count": 21,
     "metadata": {},
     "output_type": "execute_result"
    }
   ],
   "source": [
    "NernstPotential(0.22, 0.02, 1, 26.85, \"C\") # must be aprox -62"
   ]
  },
  {
   "cell_type": "code",
   "execution_count": 8,
   "metadata": {},
   "outputs": [
    {
     "name": "stdout",
     "output_type": "stream",
     "text": [
      "0.05819767068693265, 0.125\n",
      "0.22356372458463003, 4.0\n",
      "0.07, 0.04742587317756678\n"
     ]
    }
   ],
   "source": [
    "vM = 0\n",
    "\n",
    "alpha_n = .01 * ((10-vM) / (math.exp((10-vM)/10)-1))\n",
    "beta_n = .125*math.exp(-vM/80)\n",
    "\n",
    "alpha_m = .1*((25-vM) / (math.exp((25-vM)/10)-1))\n",
    "beta_m = 4*math.exp(-vM/18)\n",
    "\n",
    "alpha_h = .07*math.exp(-vM/20)\n",
    "beta_h = 1/(math.exp((30-vM)/10)+1)\n",
    "\n",
    "\n",
    "print(\"%s, %s\" % (alpha_n, beta_n))\n",
    "print(\"%s, %s\" % (alpha_m, beta_m))\n",
    "print(\"%s, %s\" % (alpha_h, beta_h))"
   ]
  },
  {
   "cell_type": "code",
   "execution_count": 9,
   "metadata": {},
   "outputs": [
    {
     "name": "stdout",
     "output_type": "stream",
     "text": [
      "0.3176769140606974 0.05293248525724958 0.5961207535084603\n"
     ]
    }
   ],
   "source": [
    "n = alpha_n / (alpha_n + beta_n)\n",
    "m = alpha_m / (alpha_m + beta_m)\n",
    "h = alpha_h / (alpha_h + beta_h)\n",
    "\n",
    "print(n, m, h)"
   ]
  },
  {
   "cell_type": "code",
   "execution_count": 10,
   "metadata": {},
   "outputs": [
    {
     "name": "stdout",
     "output_type": "stream",
     "text": [
      "0.367\n"
     ]
    }
   ],
   "source": [
    "print(gK)\n",
    "gK = gK_max * n**4\n",
    "gNa = gNa_max * h * m**3"
   ]
  },
  {
   "cell_type": "code",
   "execution_count": 11,
   "metadata": {},
   "outputs": [],
   "source": [
    "INa = gNa * (vM + Vr - ENa)\n",
    "IK = gK * (vM + Vr - EK)\n",
    "IL = gL * (vM + Vr - EL)\n",
    "\n",
    "Iion = INa + IK + IL "
   ]
  },
  {
   "cell_type": "code",
   "execution_count": 12,
   "metadata": {},
   "outputs": [],
   "source": [
    "Vm0 = -60\n",
    "Vmr = -60\n",
    "\n",
    "ns = [0] * total_time_deltas\n",
    "ms = [0] * total_time_deltas\n",
    "hs = [0] * total_time_deltas\n",
    "vms = [0] * total_time_deltas\n",
    "Vms = [0] * total_time_deltas\n",
    "\n",
    "ns[0] = n\n",
    "ms[0] = m\n",
    "hs[0] = h\n",
    "vms[0] = Vm0 - Vmr\n",
    "Vms[0] = Vm0"
   ]
  },
  {
   "cell_type": "code",
   "execution_count": 13,
   "metadata": {},
   "outputs": [
    {
     "data": {
      "text/plain": [
       "[0.05819767068693265,\n",
       " 0.125,\n",
       " 0.22356372458463003,\n",
       " 4.0,\n",
       " 0.07,\n",
       " 0.04742587317756678]"
      ]
     },
     "execution_count": 13,
     "metadata": {},
     "output_type": "execute_result"
    }
   ],
   "source": [
    "[alpha_n, beta_n, alpha_m, beta_m, alpha_h, beta_h]"
   ]
  },
  {
   "cell_type": "code",
   "execution_count": 14,
   "metadata": {},
   "outputs": [
    {
     "data": {
      "text/plain": [
       "[0.3176769140606974, 0.05293248525724958, 0.5961207535084603]"
      ]
     },
     "execution_count": 14,
     "metadata": {},
     "output_type": "execute_result"
    }
   ],
   "source": [
    "[n, m, h]"
   ]
  },
  {
   "cell_type": "code",
   "execution_count": 15,
   "metadata": {},
   "outputs": [
    {
     "data": {
      "text/plain": [
       "[0.3666444556069115, 0.010609192838829854, 0.3]"
      ]
     },
     "execution_count": 15,
     "metadata": {},
     "output_type": "execute_result"
    }
   ],
   "source": [
    "[gK, gNa, gL]"
   ]
  },
  {
   "cell_type": "code",
   "execution_count": 16,
   "metadata": {},
   "outputs": [],
   "source": [
    "for i in range(total_time_deltas-1):\n",
    "    vM = Vms[i] - Vr\n",
    "    alpha_n = 0.1 if vM == 10 else .01 * ((10-vM) / (math.exp((10-vM)/10)-1))\n",
    "    beta_n = .125*math.exp(-vM/80)\n",
    "\n",
    "    alpha_m = 0.0 if vM == 25 else .1*((25-vM) / (math.exp((25-vM)/10)-1)) \n",
    "    beta_m = 4*math.exp(-vM/18)\n",
    "\n",
    "    alpha_h = .07*math.exp(-vM/20)\n",
    "    beta_h = 1/(math.exp((30-vM)/10)+1)\n",
    "    \n",
    "    gK = gK_max * ns[i]**4\n",
    "    gNa = gNa_max * hs[i] * ms[i]**3\n",
    "    \n",
    "    INa = gNa * (Vms[i] - ENa)\n",
    "    IK = gK * (Vms[i] - EK)\n",
    "    IL = gL * (Vms[i] - EL)\n",
    "    \n",
    "    I = Ims[i] - IK - INa - IL\n",
    "    \n",
    "    Vms[i+1] = Vms[i] + delta_t * I / Cm\n",
    "    ns[i+1] = ns[i] + delta_t * (alpha_n * (1 - ns[i]) - beta_n * ns[i])\n",
    "    ms[i+1] = ms[i] + delta_t * (alpha_m * (1 - ms[i]) - beta_m * ms[i])\n",
    "    hs[i+1] = hs[i] + delta_t * (alpha_h * (1 - hs[i]) - beta_h * hs[i])\n",
    "    "
   ]
  },
  {
   "cell_type": "code",
   "execution_count": 17,
   "metadata": {},
   "outputs": [],
   "source": [
    "%matplotlib inline\n",
    "\n",
    "import matplotlib\n",
    "import numpy as np\n",
    "import matplotlib.pyplot as plt"
   ]
  },
  {
   "cell_type": "code",
   "execution_count": 18,
   "metadata": {
    "scrolled": false
   },
   "outputs": [
    {
     "data": {
      "image/png": "[encoded data removed]",
      "text/plain": [
       "<Figure size 432x288 with 1 Axes>"
      ]
     },
     "metadata": {
      "needs_background": "light"
     },
     "output_type": "display_data"
    }
   ],
   "source": [
    "plt.plot(Vms, color=\"purple\")\n",
    "plt.show()"
   ]
  },
  {
   "cell_type": "code",
   "execution_count": 20,
   "metadata": {},
   "outputs": [
    {
     "data": {
      "image/png": "[encoded data removed]",
      "text/plain": [
       "<Figure size 432x288 with 1 Axes>"
      ]
     },
     "metadata": {
      "needs_background": "light"
     },
     "output_type": "display_data"
    }
   ],
   "source": [
    "plt.plot(ns)\n",
    "plt.plot(ms)\n",
    "plt.plot(hs, color=\"red\")\n",
    "plt.show()"
   ]
  },
  {
   "cell_type": "code",
   "execution_count": null,
   "metadata": {},
   "outputs": [],
   "source": []
  },
  {
   "cell_type": "code",
   "execution_count": null,
   "metadata": {},
   "outputs": [],
   "source": []
  }
 ],
 "metadata": {
  "kernelspec": {
   "display_name": "Python 3",
   "language": "python",
   "name": "python3"
  },
  "language_info": {
   "codemirror_mode": {
    "name": "ipython",
    "version": 3
   },
   "file_extension": ".py",
   "mimetype": "text/x-python",
   "name": "python",
   "nbconvert_exporter": "python",
   "pygments_lexer": "ipython3",
   "version": "3.8.5"
  }
 },
 "nbformat": 4,
 "nbformat_minor": 4
}
